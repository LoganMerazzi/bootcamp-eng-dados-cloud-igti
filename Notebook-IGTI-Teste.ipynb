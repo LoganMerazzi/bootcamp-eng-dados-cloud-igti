{
 "cells": [
  {
   "cell_type": "markdown",
   "id": "00b57216",
   "metadata": {},
   "source": [
    "# Bootcamp Engenheiro de Dados Cloud - IGTI - Módulo 1\n",
    "\n",
    "### Caso de uso - Delta Lake\n",
    "\n",
    "Após realizar o processamento dos dados do ENEM 2019 e fazer a ingestão no lake no formato delta, vamos verificar o upsert realizado usando o time travel."
   ]
  },
  {
   "cell_type": "code",
   "execution_count": 1,
   "id": "76db38b5",
   "metadata": {},
   "outputs": [
    {
     "data": {
      "application/vnd.jupyter.widget-view+json": {
       "model_id": "a7df1628ac1a411c9be351b9da453416",
       "version_major": 2,
       "version_minor": 0
      },
      "text/plain": [
       "VBox()"
      ]
     },
     "metadata": {},
     "output_type": "display_data"
    },
    {
     "name": "stdout",
     "output_type": "stream",
     "text": [
      "Starting Spark application\n"
     ]
    },
    {
     "data": {
      "text/html": [
       "<table>\n",
       "<tr><th>ID</th><th>YARN Application ID</th><th>Kind</th><th>State</th><th>Spark UI</th><th>Driver log</th><th>Current session?</th></tr><tr><td>0</td><td>application_1630312960668_0004</td><td>pyspark</td><td>idle</td><td><a target=\"_blank\" href=\"http://ip-172-31-41-44.us-east-2.compute.internal:20888/proxy/application_1630312960668_0004/\" class=\"emr-proxy-link\" emr-resource=\"j-2MBAWJCI90U1V\n",
       "\" application-id=\"application_1630312960668_0004\">Link</a></td><td><a target=\"_blank\" href=\"http://ip-172-31-45-205.us-east-2.compute.internal:8042/node/containerlogs/container_1630312960668_0004_01_000001/livy\" >Link</a></td><td>✔</td></tr></table>"
      ],
      "text/plain": [
       "<IPython.core.display.HTML object>"
      ]
     },
     "metadata": {},
     "output_type": "display_data"
    },
    {
     "data": {
      "application/vnd.jupyter.widget-view+json": {
       "model_id": "",
       "version_major": 2,
       "version_minor": 0
      },
      "text/plain": [
       "FloatProgress(value=0.0, bar_style='info', description='Progress:', layout=Layout(height='25px', width='50%'),…"
      ]
     },
     "metadata": {},
     "output_type": "display_data"
    },
    {
     "name": "stdout",
     "output_type": "stream",
     "text": [
      "SparkSession available as 'spark'.\n"
     ]
    },
    {
     "data": {
      "application/vnd.jupyter.widget-view+json": {
       "model_id": "",
       "version_major": 2,
       "version_minor": 0
      },
      "text/plain": [
       "FloatProgress(value=0.0, bar_style='info', description='Progress:', layout=Layout(height='25px', width='50%'),…"
      ]
     },
     "metadata": {},
     "output_type": "display_data"
    }
   ],
   "source": [
    "import pyspark"
   ]
  },
  {
   "cell_type": "code",
   "execution_count": 2,
   "id": "7754ce9c",
   "metadata": {},
   "outputs": [
    {
     "name": "stdout",
     "output_type": "stream",
     "text": [
      "Starting Spark application\n"
     ]
    },
    {
     "data": {
      "text/html": [
       "<table>\n",
       "<tr><th>ID</th><th>YARN Application ID</th><th>Kind</th><th>State</th><th>Spark UI</th><th>Driver log</th><th>Current session?</th></tr><tr><td>1</td><td>application_1630312960668_0005</td><td>pyspark</td><td>idle</td><td><a target=\"_blank\" href=\"http://ip-172-31-41-44.us-east-2.compute.internal:20888/proxy/application_1630312960668_0005/\" class=\"emr-proxy-link\" emr-resource=\"j-2MBAWJCI90U1V\n",
       "\" application-id=\"application_1630312960668_0005\">Link</a></td><td><a target=\"_blank\" href=\"http://ip-172-31-45-205.us-east-2.compute.internal:8042/node/containerlogs/container_1630312960668_0005_01_000001/livy\" >Link</a></td><td>✔</td></tr></table>"
      ],
      "text/plain": [
       "<IPython.core.display.HTML object>"
      ]
     },
     "metadata": {},
     "output_type": "display_data"
    },
    {
     "data": {
      "application/vnd.jupyter.widget-view+json": {
       "model_id": "",
       "version_major": 2,
       "version_minor": 0
      },
      "text/plain": [
       "FloatProgress(value=0.0, bar_style='info', description='Progress:', layout=Layout(height='25px', width='50%'),…"
      ]
     },
     "metadata": {},
     "output_type": "display_data"
    },
    {
     "name": "stdout",
     "output_type": "stream",
     "text": [
      "SparkSession available as 'spark'.\n"
     ]
    },
    {
     "data": {
      "text/html": [
       "Current session configs: <tt>{'conf': {'spark.jars.packages': 'io.delta:delta-core_2.12:1.0.0', 'spark.sql.extensions': 'io.delta.sql.DeltaSparkSessionExtension', 'spark.sql.catalog.spark_catalog': 'org.apache.spark.sql.delta.catalog.DeltaCatalog'}, 'proxyUser': 'user_loganmerazzi', 'kind': 'pyspark'}</tt><br>"
      ],
      "text/plain": [
       "<IPython.core.display.HTML object>"
      ]
     },
     "metadata": {},
     "output_type": "display_data"
    },
    {
     "data": {
      "text/html": [
       "<table>\n",
       "<tr><th>ID</th><th>YARN Application ID</th><th>Kind</th><th>State</th><th>Spark UI</th><th>Driver log</th><th>Current session?</th></tr><tr><td>1</td><td>application_1630312960668_0005</td><td>pyspark</td><td>idle</td><td><a target=\"_blank\" href=\"http://ip-172-31-41-44.us-east-2.compute.internal:20888/proxy/application_1630312960668_0005/\" class=\"emr-proxy-link\" emr-resource=\"j-2MBAWJCI90U1V\n",
       "\" application-id=\"application_1630312960668_0005\">Link</a></td><td><a target=\"_blank\" href=\"http://ip-172-31-45-205.us-east-2.compute.internal:8042/node/containerlogs/container_1630312960668_0005_01_000001/livy\" >Link</a></td><td>✔</td></tr></table>"
      ],
      "text/plain": [
       "<IPython.core.display.HTML object>"
      ]
     },
     "metadata": {},
     "output_type": "display_data"
    }
   ],
   "source": [
    "%%configure -f\n",
    "{\n",
    "    \"conf\": {\n",
    "        \"spark.jars.packages\": \"io.delta:delta-core_2.12:1.0.0\", \n",
    "        \"spark.sql.extensions\": \"io.delta.sql.DeltaSparkSessionExtension\", \n",
    "        \"spark.sql.catalog.spark_catalog\": \"org.apache.spark.sql.delta.catalog.DeltaCatalog\"\n",
    "    }\n",
    "}"
   ]
  },
  {
   "cell_type": "code",
   "execution_count": 3,
   "id": "2646e8ac",
   "metadata": {},
   "outputs": [
    {
     "data": {
      "application/vnd.jupyter.widget-view+json": {
       "model_id": "044ce5723e644c3680d1a8b4b586fd0f",
       "version_major": 2,
       "version_minor": 0
      },
      "text/plain": [
       "VBox()"
      ]
     },
     "metadata": {},
     "output_type": "display_data"
    },
    {
     "data": {
      "application/vnd.jupyter.widget-view+json": {
       "model_id": "",
       "version_major": 2,
       "version_minor": 0
      },
      "text/plain": [
       "FloatProgress(value=0.0, bar_style='info', description='Progress:', layout=Layout(height='25px', width='50%'),…"
      ]
     },
     "metadata": {},
     "output_type": "display_data"
    }
   ],
   "source": [
    "inscricoes = [190001595656,190001421546,190001133210,190001199383,190001237802,\n",
    "    190001782198,190001421548,190001595657,190001592264,190001592266,190001592265,190001475147,190001867756,190001133211,\n",
    "    190001237803,190001493186,190001421547,190001493187,190001210202,190001421549,190001595658,190002037437,190001421550,\n",
    "    190001595659,190001421551,190001237804,190001867757,190001184600,190001692704,190001867758,190002037438,190001595660,\n",
    "    190001237805,190001705260,190001421552,190001867759,190001595661,190001042834,190001237806,190001595662,190001421553,\n",
    "    190001475148,190001421554,190001493188,190002037439,190001421555,190001480442,190001493189,190001705261,190001421556]"
   ]
  },
  {
   "cell_type": "code",
   "execution_count": 4,
   "id": "f0d59a3b",
   "metadata": {},
   "outputs": [
    {
     "data": {
      "application/vnd.jupyter.widget-view+json": {
       "model_id": "f55ea8e077ff457b894a13a1ad947ff9",
       "version_major": 2,
       "version_minor": 0
      },
      "text/plain": [
       "VBox()"
      ]
     },
     "metadata": {},
     "output_type": "display_data"
    },
    {
     "data": {
      "application/vnd.jupyter.widget-view+json": {
       "model_id": "",
       "version_major": 2,
       "version_minor": 0
      },
      "text/plain": [
       "FloatProgress(value=0.0, bar_style='info', description='Progress:', layout=Layout(height='25px', width='50%'),…"
      ]
     },
     "metadata": {},
     "output_type": "display_data"
    }
   ],
   "source": [
    "from delta.tables import *"
   ]
  },
  {
   "cell_type": "code",
   "execution_count": 5,
   "id": "b39a793d",
   "metadata": {},
   "outputs": [
    {
     "data": {
      "application/vnd.jupyter.widget-view+json": {
       "model_id": "c1c166f4d5bd408d80bb329d2fea1ce7",
       "version_major": 2,
       "version_minor": 0
      },
      "text/plain": [
       "VBox()"
      ]
     },
     "metadata": {},
     "output_type": "display_data"
    },
    {
     "data": {
      "application/vnd.jupyter.widget-view+json": {
       "model_id": "",
       "version_major": 2,
       "version_minor": 0
      },
      "text/plain": [
       "FloatProgress(value=0.0, bar_style='info', description='Progress:', layout=Layout(height='25px', width='50%'),…"
      ]
     },
     "metadata": {},
     "output_type": "display_data"
    }
   ],
   "source": [
    "df_last = (\n",
    "    spark\n",
    "    .read\n",
    "    .format(\"delta\")\n",
    "    .load(\"s3://datalake-logan-igti-edc-tf/staging-zone/enem/\")\n",
    ")"
   ]
  },
  {
   "cell_type": "code",
   "execution_count": 6,
   "id": "801e4286",
   "metadata": {},
   "outputs": [
    {
     "data": {
      "application/vnd.jupyter.widget-view+json": {
       "model_id": "b034c3bd7cb94ca2ab4cbb8b5ba1ba4d",
       "version_major": 2,
       "version_minor": 0
      },
      "text/plain": [
       "VBox()"
      ]
     },
     "metadata": {},
     "output_type": "display_data"
    },
    {
     "data": {
      "application/vnd.jupyter.widget-view+json": {
       "model_id": "",
       "version_major": 2,
       "version_minor": 0
      },
      "text/plain": [
       "FloatProgress(value=0.0, bar_style='info', description='Progress:', layout=Layout(height='25px', width='50%'),…"
      ]
     },
     "metadata": {},
     "output_type": "display_data"
    },
    {
     "name": "stdout",
     "output_type": "stream",
     "text": [
      "+------------+-----------------------+\n",
      "|NU_INSCRICAO|CO_MUNICIPIO_RESIDENCIA|\n",
      "+------------+-----------------------+\n",
      "|190001042834|               10000000|\n",
      "|190001133210|               10000000|\n",
      "|190001133211|               10000000|\n",
      "|190001184600|               10000000|\n",
      "|190001199383|               10000000|\n",
      "|190001210202|               10000000|\n",
      "|190001237802|               10000000|\n",
      "|190001237803|               10000000|\n",
      "|190001237804|               10000000|\n",
      "|190001237805|               10000000|\n",
      "|190001237806|               10000000|\n",
      "|190001421546|               10000000|\n",
      "|190001421547|               10000000|\n",
      "|190001421548|               10000000|\n",
      "|190001421549|               10000000|\n",
      "|190001421550|               10000000|\n",
      "|190001421551|               10000000|\n",
      "|190001421552|               10000000|\n",
      "|190001421553|               10000000|\n",
      "|190001421554|               10000000|\n",
      "+------------+-----------------------+\n",
      "only showing top 20 rows"
     ]
    }
   ],
   "source": [
    "(\n",
    "    df_last\n",
    "    .where(df_last.NU_INSCRICAO.isin(inscricoes))\n",
    "    .select(\"NU_INSCRICAO\", \"CO_MUNICIPIO_RESIDENCIA\")\n",
    "    .orderBy(\"NU_INSCRICAO\")\n",
    "    .show()\n",
    ")"
   ]
  },
  {
   "cell_type": "code",
   "execution_count": 7,
   "id": "2a99b7f8",
   "metadata": {},
   "outputs": [
    {
     "data": {
      "application/vnd.jupyter.widget-view+json": {
       "model_id": "48fe18ec95564e8fb3f0a7b5a97a534b",
       "version_major": 2,
       "version_minor": 0
      },
      "text/plain": [
       "VBox()"
      ]
     },
     "metadata": {},
     "output_type": "display_data"
    },
    {
     "data": {
      "application/vnd.jupyter.widget-view+json": {
       "model_id": "",
       "version_major": 2,
       "version_minor": 0
      },
      "text/plain": [
       "FloatProgress(value=0.0, bar_style='info', description='Progress:', layout=Layout(height='25px', width='50%'),…"
      ]
     },
     "metadata": {},
     "output_type": "display_data"
    }
   ],
   "source": [
    "df_anterior = (\n",
    "    spark\n",
    "    .read\n",
    "    .format(\"delta\")\n",
    "    .option(\"versionAsOf\", \"0\")\n",
    "    .load(\"s3://datalake-logan-igti-edc-tf/staging-zone/enem/\")\n",
    ")"
   ]
  },
  {
   "cell_type": "code",
   "execution_count": 8,
   "id": "2ab844a0",
   "metadata": {},
   "outputs": [
    {
     "data": {
      "application/vnd.jupyter.widget-view+json": {
       "model_id": "bbfa95d8fa9a425a9ebc6ee0f84a6a9e",
       "version_major": 2,
       "version_minor": 0
      },
      "text/plain": [
       "VBox()"
      ]
     },
     "metadata": {},
     "output_type": "display_data"
    },
    {
     "data": {
      "application/vnd.jupyter.widget-view+json": {
       "model_id": "",
       "version_major": 2,
       "version_minor": 0
      },
      "text/plain": [
       "FloatProgress(value=0.0, bar_style='info', description='Progress:', layout=Layout(height='25px', width='50%'),…"
      ]
     },
     "metadata": {},
     "output_type": "display_data"
    },
    {
     "name": "stdout",
     "output_type": "stream",
     "text": [
      "+------------+-----------------------+\n",
      "|NU_INSCRICAO|CO_MUNICIPIO_RESIDENCIA|\n",
      "+------------+-----------------------+\n",
      "|190001042834|                1501402|\n",
      "|190001133210|                2304400|\n",
      "|190001133211|                2304400|\n",
      "|190001184600|                1600303|\n",
      "|190001199383|                1721000|\n",
      "|190001210202|                2105401|\n",
      "|190001237802|                3118601|\n",
      "|190001237803|                3170206|\n",
      "|190001237804|                3124104|\n",
      "|190001237805|                3118304|\n",
      "|190001237806|                3162922|\n",
      "|190001421546|                2910800|\n",
      "|190001421547|                2911709|\n",
      "|190001421548|                2924009|\n",
      "|190001421549|                2927408|\n",
      "|190001421550|                2927408|\n",
      "|190001421551|                2917508|\n",
      "|190001421552|                2919207|\n",
      "|190001421553|                2927408|\n",
      "|190001421554|                2927408|\n",
      "+------------+-----------------------+\n",
      "only showing top 20 rows"
     ]
    }
   ],
   "source": [
    "(\n",
    "    df_anterior\n",
    "    .where(df_anterior.NU_INSCRICAO.isin(inscricoes))\n",
    "    .select(\"NU_INSCRICAO\", \"CO_MUNICIPIO_RESIDENCIA\")\n",
    "    .orderBy(\"NU_INSCRICAO\")\n",
    "    .show()\n",
    ")"
   ]
  },
  {
   "cell_type": "code",
   "execution_count": null,
   "id": "3aa057e6",
   "metadata": {},
   "outputs": [],
   "source": [
    "spark.stop()"
   ]
  }
 ],
 "metadata": {
  "kernelspec": {
   "display_name": "PySpark",
   "language": "",
   "name": "pysparkkernel"
  },
  "language_info": {
   "codemirror_mode": {
    "name": "python",
    "version": 3
   },
   "mimetype": "text/x-python",
   "name": "pyspark",
   "pygments_lexer": "python3"
  }
 },
 "nbformat": 4,
 "nbformat_minor": 5
}
